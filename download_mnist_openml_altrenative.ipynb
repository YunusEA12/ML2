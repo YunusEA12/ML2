{
  "nbformat": 4,
  "nbformat_minor": 0,
  "metadata": {
    "colab": {
      "provenance": []
    },
    "kernelspec": {
      "name": "python3",
      "display_name": "Python 3"
    },
    "language_info": {
      "name": "python"
    }
  },
  "cells": [
    {
      "cell_type": "markdown",
      "source": [
        "### Download of MNIST data (Alternative to fetch_openml)"
      ],
      "metadata": {
        "id": "lBiSMBv2eeu4"
      }
    },
    {
      "cell_type": "code",
      "execution_count": 78,
      "metadata": {
        "id": "koxTgg1Zu8DY"
      },
      "outputs": [],
      "source": [
        "import gzip\n",
        "import numpy as np\n",
        "import matplotlib.pyplot as plt"
      ]
    },
    {
      "cell_type": "markdown",
      "source": [
        "Download the following files from one of these websites:\n",
        "\n",
        "*   https://github.com/cvdfoundation/mnist?tab=readme-ov-file (Mirror)\n",
        "*   https://yann.lecun.com/exdb/mnist/ (Original data ressource)\n"
      ],
      "metadata": {
        "id": "QTbs6mQ4d4dh"
      }
    },
    {
      "cell_type": "code",
      "source": [
        "f_train = gzip.open('train-images-idx3-ubyte.gz','r')\n",
        "f_test = gzip.open('t10k-images-idx3-ubyte.gz','r')\n",
        "f_train_labels = gzip.open('train-labels-idx1-ubyte.gz','r')\n",
        "f_test_labels = gzip.open('t10k-labels-idx1-ubyte.gz','r')"
      ],
      "metadata": {
        "id": "Ps-g_evIbqrA"
      },
      "execution_count": 79,
      "outputs": []
    },
    {
      "cell_type": "code",
      "source": [
        "image_size = 28\n",
        "n_train = 60000\n",
        "n_test = 10000"
      ],
      "metadata": {
        "id": "Z092Au05vAWE"
      },
      "execution_count": 80,
      "outputs": []
    },
    {
      "cell_type": "code",
      "source": [
        "byte_offset = 16\n",
        "byte_offset_labels = 8"
      ],
      "metadata": {
        "id": "nQRsj2WNbqny"
      },
      "execution_count": 81,
      "outputs": []
    },
    {
      "cell_type": "code",
      "source": [
        "def read_data(f, image_size, n, byte_offset):\n",
        "    f.read(byte_offset)\n",
        "    buf = f.read(image_size * image_size * n)\n",
        "    data = np.frombuffer(buf, dtype=np.uint8).astype(np.float32)\n",
        "    data = data.reshape(n, image_size, image_size, 1)\n",
        "    return data\n",
        "\n",
        "def read_labels(f, n, byte_offset_labels):\n",
        "    f.read(byte_offset_labels)\n",
        "    buf = f.read(n)\n",
        "    labels = np.frombuffer(buf, dtype=np.uint8).astype(np.int64)\n",
        "    #data = data.reshape(n, image_size, image_size, 1)\n",
        "    return labels"
      ],
      "metadata": {
        "id": "1QK0mSdtcW2F"
      },
      "execution_count": 82,
      "outputs": []
    },
    {
      "cell_type": "code",
      "source": [
        "train_data = read_data(f_train, image_size, n_train, byte_offset)\n",
        "test_data = read_data(f_test, image_size, n_test, byte_offset)\n",
        "train_labels = read_labels(f_train_labels, n_train, byte_offset_labels)\n",
        "test_labels = read_labels(f_test_labels, n_test, byte_offset_labels)"
      ],
      "metadata": {
        "id": "x4nhuUsHvf3u"
      },
      "execution_count": 83,
      "outputs": []
    },
    {
      "cell_type": "code",
      "source": [
        "train_data.shape"
      ],
      "metadata": {
        "colab": {
          "base_uri": "https://localhost:8080/"
        },
        "id": "QT-Bh1yivmWI",
        "outputId": "cd572e4f-5b91-41f3-c555-6c4d9057555f"
      },
      "execution_count": 84,
      "outputs": [
        {
          "output_type": "execute_result",
          "data": {
            "text/plain": [
              "(60000, 28, 28, 1)"
            ]
          },
          "metadata": {},
          "execution_count": 84
        }
      ]
    },
    {
      "cell_type": "code",
      "source": [
        "test_data.shape"
      ],
      "metadata": {
        "colab": {
          "base_uri": "https://localhost:8080/"
        },
        "id": "ZMhxs7cddLUG",
        "outputId": "9b656977-5195-4a34-885a-3b3fe6d6f927"
      },
      "execution_count": 85,
      "outputs": [
        {
          "output_type": "execute_result",
          "data": {
            "text/plain": [
              "(10000, 28, 28, 1)"
            ]
          },
          "metadata": {},
          "execution_count": 85
        }
      ]
    },
    {
      "cell_type": "code",
      "source": [
        "train_labels.shape"
      ],
      "metadata": {
        "colab": {
          "base_uri": "https://localhost:8080/"
        },
        "id": "RYfuFLnrdLRv",
        "outputId": "d3f2aaa1-78c3-4bed-ff76-a956a8b39d19"
      },
      "execution_count": 86,
      "outputs": [
        {
          "output_type": "execute_result",
          "data": {
            "text/plain": [
              "(60000,)"
            ]
          },
          "metadata": {},
          "execution_count": 86
        }
      ]
    },
    {
      "cell_type": "code",
      "source": [
        "test_labels.shape"
      ],
      "metadata": {
        "colab": {
          "base_uri": "https://localhost:8080/"
        },
        "id": "Qohf1OT6dLCT",
        "outputId": "7768007a-8578-42d1-eaa1-3367da3954e1"
      },
      "execution_count": 87,
      "outputs": [
        {
          "output_type": "execute_result",
          "data": {
            "text/plain": [
              "(10000,)"
            ]
          },
          "metadata": {},
          "execution_count": 87
        }
      ]
    },
    {
      "cell_type": "code",
      "source": [
        "# Test plotting some images\n",
        "for idx in [0, 30000, 59999]:\n",
        "    image = np.asarray(train_data[idx]).squeeze()\n",
        "    print(\"label = \", train_labels[idx])\n",
        "    plt.imshow(image)\n",
        "    plt.show()"
      ],
      "metadata": {
        "colab": {
          "base_uri": "https://localhost:8080/",
          "height": 1000
        },
        "id": "5AUMi5QsZCdo",
        "outputId": "073630aa-01a3-4246-9512-0a3cdd0f2075"
      },
      "execution_count": 93,
      "outputs": [
        {
          "output_type": "stream",
          "name": "stdout",
          "text": [
            "label =  5\n"
          ]
        },
        {
          "output_type": "display_data",
          "data": {
            "text/plain": [
              "<Figure size 640x480 with 1 Axes>"
            ],
            "image/png": "[encoded data removed]"
          },
          "metadata": {}
        },
        {
          "output_type": "stream",
          "name": "stdout",
          "text": [
            "label =  3\n"
          ]
        },
        {
          "output_type": "display_data",
          "data": {
            "text/plain": [
              "<Figure size 640x480 with 1 Axes>"
            ],
            "image/png": "[encoded data removed]"
          },
          "metadata": {}
        },
        {
          "output_type": "stream",
          "name": "stdout",
          "text": [
            "label =  8\n"
          ]
        },
        {
          "output_type": "display_data",
          "data": {
            "text/plain": [
              "<Figure size 640x480 with 1 Axes>"
            ],
            "image/png": "[encoded data removed]"
          },
          "metadata": {}
        }
      ]
    }
  ]
}